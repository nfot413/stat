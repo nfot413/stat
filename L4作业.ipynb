{
 "cells": [
  {
   "cell_type": "markdown",
   "id": "2f3e9036",
   "metadata": {},
   "source": [
    "## 硬币问题解析\n",
    "\n",
    "硬币正面朝上的概率为 $ p = \\frac{1}{2} $\n",
    "\n",
    "投掷 n 次才出现正面朝上这一事件满足 **几何分布（Geometric Distribution）**，我们有\n",
    "\n",
    "$$\n",
    "P(n) = (1 - p)^{n-1}p = (\\frac{1}{2})^n\n",
    "$$\n",
    "\n",
    "则求得投掷 n 次才出现正面朝上所获的奖金的期望为\n",
    "\n",
    "$$\n",
    "E(n) = P(n) \\times 2^n = (\\frac{1}{2})^n \\times 2^n = 1\n",
    "$$\n",
    "\n",
    "在不限制投掷次数的情况下\n",
    "\n",
    "$$\n",
    "E = \\sum_{n=1}^{\\infty}E(n) = \\sum_{n=1}^{\\infty} 1 = \\infty\n",
    "$$\n",
    "\n",
    "最后求出的期望为无穷大\n",
    "\n",
    "若最多只能投掷 k 次，即若 k 次内未投掷出正面，奖金为0。此时的期望为：\n",
    "\n",
    "$$\n",
    "E_k = \\sum_{n=1}^{k}E(n) = k\n",
    "$$"
   ]
  },
  {
   "cell_type": "code",
   "execution_count": null,
   "id": "76b848ca",
   "metadata": {},
   "outputs": [],
   "source": [
    "import numpy as np\n",
    "import matplotlib.pyplot as plt\n",
    "\n"
   ]
  }
 ],
 "metadata": {
  "kernelspec": {
   "display_name": "Python (stat)",
   "language": "python",
   "name": "stat"
  },
  "language_info": {
   "name": "python",
   "version": "3.12.11"
  }
 },
 "nbformat": 4,
 "nbformat_minor": 5
}
