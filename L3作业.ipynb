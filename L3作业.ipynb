{
 "cells": [
  {
   "cell_type": "markdown",
   "id": "49bc56bd",
   "metadata": {},
   "source": [
    "## 条件概率问题\n",
    "\n",
    "连续掷两次标准六面骰子，已知两次点数之和为 9，求第一次掷出 6 的概率。\n",
    "\n",
    "我们设：\n",
    "\n",
    "- 事件 $ A $：第一次掷出 6；\n",
    "- 事件 $ B $：两次点数之和为 9。\n",
    "\n",
    "所求为条件概率：\n",
    "$$\n",
    "P(A \\mid B) = \\frac{P(A \\cap B)}{P(B)}\n",
    "$$\n",
    "\n",
    "样本空间$ S = \\{(x, y) \\mid x, y \\in \\{1,2,3,4,5,6\\}\\} $，共有$ 6 \\times 6 = 36 $ 个等可能结果\n",
    "\n",
    "所有满足 $ x + y = 9 $ 的有序对：\n",
    "\n",
    "- $ (3,6) $\n",
    "- $ (4,5) $\n",
    "- $ (5,4) $\n",
    "- $ (6,3) $\n",
    "\n",
    "共 4 个可能结果，因此：\n",
    "$$ \n",
    "P({B}) =  \\frac{4}{36} = \\frac{1}{9}\n",
    "$$\n",
    "\n",
    "所有满足 $ x + y = 9 $ 且 $ x = 6 $ 的有序对：\n",
    "\n",
    "- $ (6,3) $\n",
    "\n",
    "共 1 个可能结果，因此\n",
    "$$\n",
    "P({A \\cap B}) = \\frac{1}{36}\n",
    "$$\n",
    "\n",
    "因此，最终：\n",
    "$$\n",
    "P(A \\mid B) = \\frac{P(A \\cap B)}{P(B)} = \\frac{\\frac{1}{36}}{\\frac{1}{9}} = \\frac{1}{4}\n",
    "$$\n"
   ]
  },
  {
   "cell_type": "code",
   "execution_count": 32,
   "id": "fa47799e",
   "metadata": {},
   "outputs": [
    {
     "name": "stdout",
     "output_type": "stream",
     "text": [
      "总实验次数: 10000000\n",
      "事件B：点数和为9的次数: 1109459\n",
      "事件A ∩ B：点数和为9且点数第一次为6的次数: 277516\n",
      "估计的条件概率 P(A ∩ B| B): 0.2501\n",
      "理论值: 0.25\n"
     ]
    }
   ],
   "source": [
    "import numpy as np\n",
    "import matplotlib.pyplot as plt\n",
    "import collections\n",
    "\n",
    "def roll_dice_twice(dice_faces, num):\n",
    "    return np.random.randint(1, dice_faces + 1, size=(2, num))\n",
    "\n",
    "num = 10000000\n",
    "dice_faces = 6\n",
    "\n",
    "x = roll_dice_twice(dice_faces, num)\n",
    "sums = x[0] + x[1]\n",
    "\n",
    "indices_sum_9 = np.where(sums == 9)[0]\n",
    "count_sum_9 = len(indices_sum_9)\n",
    "\n",
    "first_is_6 = x[0][indices_sum_9] == 6\n",
    "count_first_6_and_sum_9 = np.sum(first_is_6)\n",
    "\n",
    "if count_sum_9 > 0:\n",
    "    estimated_prob = count_first_6_and_sum_9 / count_sum_9\n",
    "else:\n",
    "    estimated_prob = 0.0\n",
    "\n",
    "print(f\"总实验次数: {num}\")\n",
    "print(f\"事件B：点数和为9的次数: {count_sum_9}\")\n",
    "print(f\"事件A ∩ B：点数和为9且点数第一次为6的次数: {count_first_6_and_sum_9}\")\n",
    "print(f\"估计的条件概率 P(A ∩ B| B): {estimated_prob:.4f}\")\n",
    "print(f\"理论值: 0.25\")\n",
    "\n",
    "\n",
    "\n",
    "\n",
    "\n",
    "\n"
   ]
  }
 ],
 "metadata": {
  "kernelspec": {
   "display_name": "stat",
   "language": "python",
   "name": "python3"
  },
  "language_info": {
   "codemirror_mode": {
    "name": "ipython",
    "version": 3
   },
   "file_extension": ".py",
   "mimetype": "text/x-python",
   "name": "python",
   "nbconvert_exporter": "python",
   "pygments_lexer": "ipython3",
   "version": "3.12.11"
  }
 },
 "nbformat": 4,
 "nbformat_minor": 5
}
